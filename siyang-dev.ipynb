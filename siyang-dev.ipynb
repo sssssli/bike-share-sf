{
 "cells": [
  {
   "cell_type": "code",
   "execution_count": 2,
   "metadata": {
    "collapsed": true
   },
   "outputs": [],
   "source": [
    "import sqlite3 \n",
    "import pandas as pd\n",
    "import os\n",
    "from collections import Counter"
   ]
  },
  {
   "cell_type": "code",
   "execution_count": 13,
   "metadata": {
    "collapsed": true
   },
   "outputs": [],
   "source": [
    "def open_connection_sqlite ():\n",
    "        \"\"\"\n",
    "        Opens and sets sqlite connection\n",
    "        \"\"\"\n",
    "        cwd = os.getcwd() #backend testing\n",
    "        #cwd = cwd[:cwd.rfind('/')] # go back 1 dir\n",
    "\n",
    "        db = 'database.sqlite'.format(cwd=cwd)\n",
    "        try:\n",
    "            conn_sqlite = sqlite3.connect(db)\n",
    "            # autocommit\n",
    "            conn_sqlite.isolation_level = None\n",
    "            curs_sqlite = conn_sqlite.cursor()\n",
    "        except sqlite3.Error as err:\n",
    "            logging.exception('cannot open sqlite connection')\n",
    "            raise\n",
    "        return (conn_sqlite, curs_sqlite)\n"
   ]
  },
  {
   "cell_type": "code",
   "execution_count": 14,
   "metadata": {
    "collapsed": false
   },
   "outputs": [],
   "source": [
    "conn_sqlite, curs_sqlite = open_connection_sqlite()\n",
    "\n",
    "df_station = pd.read_sql_query(\"SELECT * from station\", conn_sqlite)\n",
    "df_status = pd.read_sql_query(\"SELECT * from status\", conn_sqlite)\n",
    "df_trip = pd.read_sql_query(\"SELECT * from trip\", conn_sqlite)\n",
    "df_weather = pd.read_sql_query(\"SELECT * from weather\", conn_sqlite)\n",
    "\n"
   ]
  },
  {
   "cell_type": "code",
   "execution_count": 5,
   "metadata": {
    "collapsed": true
   },
   "outputs": [],
   "source": [
    "df_list = [df_station, df_status, df_trip, df_weather]"
   ]
  },
  {
   "cell_type": "code",
   "execution_count": 6,
   "metadata": {
    "collapsed": false
   },
   "outputs": [
    {
     "data": {
      "text/html": [
       "<div>\n",
       "<table border=\"1\" class=\"dataframe\">\n",
       "  <thead>\n",
       "    <tr style=\"text-align: right;\">\n",
       "      <th></th>\n",
       "      <th>station_id</th>\n",
       "      <th>bikes_available</th>\n",
       "      <th>docks_available</th>\n",
       "      <th>time</th>\n",
       "    </tr>\n",
       "  </thead>\n",
       "  <tbody>\n",
       "    <tr>\n",
       "      <th>0</th>\n",
       "      <td>2</td>\n",
       "      <td>2</td>\n",
       "      <td>25</td>\n",
       "      <td>2013/08/29 12:06:01</td>\n",
       "    </tr>\n",
       "    <tr>\n",
       "      <th>1</th>\n",
       "      <td>2</td>\n",
       "      <td>2</td>\n",
       "      <td>25</td>\n",
       "      <td>2013/08/29 12:07:01</td>\n",
       "    </tr>\n",
       "    <tr>\n",
       "      <th>2</th>\n",
       "      <td>2</td>\n",
       "      <td>2</td>\n",
       "      <td>25</td>\n",
       "      <td>2013/08/29 12:08:01</td>\n",
       "    </tr>\n",
       "    <tr>\n",
       "      <th>3</th>\n",
       "      <td>2</td>\n",
       "      <td>2</td>\n",
       "      <td>25</td>\n",
       "      <td>2013/08/29 12:09:01</td>\n",
       "    </tr>\n",
       "    <tr>\n",
       "      <th>4</th>\n",
       "      <td>2</td>\n",
       "      <td>2</td>\n",
       "      <td>25</td>\n",
       "      <td>2013/08/29 12:10:01</td>\n",
       "    </tr>\n",
       "    <tr>\n",
       "      <th>5</th>\n",
       "      <td>2</td>\n",
       "      <td>2</td>\n",
       "      <td>25</td>\n",
       "      <td>2013/08/29 12:11:01</td>\n",
       "    </tr>\n",
       "    <tr>\n",
       "      <th>6</th>\n",
       "      <td>2</td>\n",
       "      <td>2</td>\n",
       "      <td>25</td>\n",
       "      <td>2013/08/29 12:12:01</td>\n",
       "    </tr>\n",
       "    <tr>\n",
       "      <th>7</th>\n",
       "      <td>2</td>\n",
       "      <td>2</td>\n",
       "      <td>25</td>\n",
       "      <td>2013/08/29 12:13:01</td>\n",
       "    </tr>\n",
       "    <tr>\n",
       "      <th>8</th>\n",
       "      <td>2</td>\n",
       "      <td>2</td>\n",
       "      <td>25</td>\n",
       "      <td>2013/08/29 12:15:01</td>\n",
       "    </tr>\n",
       "    <tr>\n",
       "      <th>9</th>\n",
       "      <td>2</td>\n",
       "      <td>2</td>\n",
       "      <td>25</td>\n",
       "      <td>2013/08/29 12:16:02</td>\n",
       "    </tr>\n",
       "    <tr>\n",
       "      <th>10</th>\n",
       "      <td>2</td>\n",
       "      <td>2</td>\n",
       "      <td>25</td>\n",
       "      <td>2013/08/29 12:18:01</td>\n",
       "    </tr>\n",
       "    <tr>\n",
       "      <th>11</th>\n",
       "      <td>2</td>\n",
       "      <td>2</td>\n",
       "      <td>25</td>\n",
       "      <td>2013/08/29 12:19:01</td>\n",
       "    </tr>\n",
       "    <tr>\n",
       "      <th>12</th>\n",
       "      <td>2</td>\n",
       "      <td>2</td>\n",
       "      <td>25</td>\n",
       "      <td>2013/08/29 12:20:01</td>\n",
       "    </tr>\n",
       "    <tr>\n",
       "      <th>13</th>\n",
       "      <td>2</td>\n",
       "      <td>2</td>\n",
       "      <td>25</td>\n",
       "      <td>2013/08/29 12:21:01</td>\n",
       "    </tr>\n",
       "    <tr>\n",
       "      <th>14</th>\n",
       "      <td>2</td>\n",
       "      <td>2</td>\n",
       "      <td>25</td>\n",
       "      <td>2013/08/29 12:22:01</td>\n",
       "    </tr>\n",
       "    <tr>\n",
       "      <th>15</th>\n",
       "      <td>2</td>\n",
       "      <td>2</td>\n",
       "      <td>25</td>\n",
       "      <td>2013/08/29 12:23:01</td>\n",
       "    </tr>\n",
       "    <tr>\n",
       "      <th>16</th>\n",
       "      <td>2</td>\n",
       "      <td>2</td>\n",
       "      <td>25</td>\n",
       "      <td>2013/08/29 12:25:01</td>\n",
       "    </tr>\n",
       "    <tr>\n",
       "      <th>17</th>\n",
       "      <td>2</td>\n",
       "      <td>2</td>\n",
       "      <td>25</td>\n",
       "      <td>2013/08/29 12:26:01</td>\n",
       "    </tr>\n",
       "    <tr>\n",
       "      <th>18</th>\n",
       "      <td>2</td>\n",
       "      <td>2</td>\n",
       "      <td>25</td>\n",
       "      <td>2013/08/29 12:27:04</td>\n",
       "    </tr>\n",
       "    <tr>\n",
       "      <th>19</th>\n",
       "      <td>2</td>\n",
       "      <td>2</td>\n",
       "      <td>25</td>\n",
       "      <td>2013/08/29 12:29:01</td>\n",
       "    </tr>\n",
       "    <tr>\n",
       "      <th>20</th>\n",
       "      <td>2</td>\n",
       "      <td>2</td>\n",
       "      <td>25</td>\n",
       "      <td>2013/08/29 12:30:01</td>\n",
       "    </tr>\n",
       "    <tr>\n",
       "      <th>21</th>\n",
       "      <td>2</td>\n",
       "      <td>2</td>\n",
       "      <td>25</td>\n",
       "      <td>2013/08/29 12:31:01</td>\n",
       "    </tr>\n",
       "    <tr>\n",
       "      <th>22</th>\n",
       "      <td>2</td>\n",
       "      <td>2</td>\n",
       "      <td>25</td>\n",
       "      <td>2013/08/29 12:32:01</td>\n",
       "    </tr>\n",
       "    <tr>\n",
       "      <th>23</th>\n",
       "      <td>2</td>\n",
       "      <td>2</td>\n",
       "      <td>25</td>\n",
       "      <td>2013/08/29 12:33:01</td>\n",
       "    </tr>\n",
       "    <tr>\n",
       "      <th>24</th>\n",
       "      <td>2</td>\n",
       "      <td>2</td>\n",
       "      <td>25</td>\n",
       "      <td>2013/08/29 12:34:01</td>\n",
       "    </tr>\n",
       "    <tr>\n",
       "      <th>25</th>\n",
       "      <td>2</td>\n",
       "      <td>2</td>\n",
       "      <td>25</td>\n",
       "      <td>2013/08/29 12:36:01</td>\n",
       "    </tr>\n",
       "    <tr>\n",
       "      <th>26</th>\n",
       "      <td>2</td>\n",
       "      <td>2</td>\n",
       "      <td>25</td>\n",
       "      <td>2013/08/29 12:37:01</td>\n",
       "    </tr>\n",
       "    <tr>\n",
       "      <th>27</th>\n",
       "      <td>2</td>\n",
       "      <td>2</td>\n",
       "      <td>25</td>\n",
       "      <td>2013/08/29 12:38:01</td>\n",
       "    </tr>\n",
       "    <tr>\n",
       "      <th>28</th>\n",
       "      <td>2</td>\n",
       "      <td>2</td>\n",
       "      <td>25</td>\n",
       "      <td>2013/08/29 12:39:01</td>\n",
       "    </tr>\n",
       "    <tr>\n",
       "      <th>29</th>\n",
       "      <td>2</td>\n",
       "      <td>2</td>\n",
       "      <td>25</td>\n",
       "      <td>2013/08/29 12:40:02</td>\n",
       "    </tr>\n",
       "    <tr>\n",
       "      <th>...</th>\n",
       "      <td>...</td>\n",
       "      <td>...</td>\n",
       "      <td>...</td>\n",
       "      <td>...</td>\n",
       "    </tr>\n",
       "    <tr>\n",
       "      <th>71984404</th>\n",
       "      <td>84</td>\n",
       "      <td>8</td>\n",
       "      <td>7</td>\n",
       "      <td>2015-08-31 23:30:02</td>\n",
       "    </tr>\n",
       "    <tr>\n",
       "      <th>71984405</th>\n",
       "      <td>84</td>\n",
       "      <td>8</td>\n",
       "      <td>7</td>\n",
       "      <td>2015-08-31 23:31:02</td>\n",
       "    </tr>\n",
       "    <tr>\n",
       "      <th>71984406</th>\n",
       "      <td>84</td>\n",
       "      <td>8</td>\n",
       "      <td>7</td>\n",
       "      <td>2015-08-31 23:32:02</td>\n",
       "    </tr>\n",
       "    <tr>\n",
       "      <th>71984407</th>\n",
       "      <td>84</td>\n",
       "      <td>8</td>\n",
       "      <td>7</td>\n",
       "      <td>2015-08-31 23:33:02</td>\n",
       "    </tr>\n",
       "    <tr>\n",
       "      <th>71984408</th>\n",
       "      <td>84</td>\n",
       "      <td>8</td>\n",
       "      <td>7</td>\n",
       "      <td>2015-08-31 23:34:02</td>\n",
       "    </tr>\n",
       "    <tr>\n",
       "      <th>71984409</th>\n",
       "      <td>84</td>\n",
       "      <td>8</td>\n",
       "      <td>7</td>\n",
       "      <td>2015-08-31 23:35:02</td>\n",
       "    </tr>\n",
       "    <tr>\n",
       "      <th>71984410</th>\n",
       "      <td>84</td>\n",
       "      <td>8</td>\n",
       "      <td>7</td>\n",
       "      <td>2015-08-31 23:36:01</td>\n",
       "    </tr>\n",
       "    <tr>\n",
       "      <th>71984411</th>\n",
       "      <td>84</td>\n",
       "      <td>8</td>\n",
       "      <td>7</td>\n",
       "      <td>2015-08-31 23:37:02</td>\n",
       "    </tr>\n",
       "    <tr>\n",
       "      <th>71984412</th>\n",
       "      <td>84</td>\n",
       "      <td>8</td>\n",
       "      <td>7</td>\n",
       "      <td>2015-08-31 23:38:02</td>\n",
       "    </tr>\n",
       "    <tr>\n",
       "      <th>71984413</th>\n",
       "      <td>84</td>\n",
       "      <td>8</td>\n",
       "      <td>7</td>\n",
       "      <td>2015-08-31 23:39:02</td>\n",
       "    </tr>\n",
       "    <tr>\n",
       "      <th>71984414</th>\n",
       "      <td>84</td>\n",
       "      <td>8</td>\n",
       "      <td>7</td>\n",
       "      <td>2015-08-31 23:40:02</td>\n",
       "    </tr>\n",
       "    <tr>\n",
       "      <th>71984415</th>\n",
       "      <td>84</td>\n",
       "      <td>8</td>\n",
       "      <td>7</td>\n",
       "      <td>2015-08-31 23:41:02</td>\n",
       "    </tr>\n",
       "    <tr>\n",
       "      <th>71984416</th>\n",
       "      <td>84</td>\n",
       "      <td>8</td>\n",
       "      <td>7</td>\n",
       "      <td>2015-08-31 23:42:02</td>\n",
       "    </tr>\n",
       "    <tr>\n",
       "      <th>71984417</th>\n",
       "      <td>84</td>\n",
       "      <td>8</td>\n",
       "      <td>7</td>\n",
       "      <td>2015-08-31 23:43:02</td>\n",
       "    </tr>\n",
       "    <tr>\n",
       "      <th>71984418</th>\n",
       "      <td>84</td>\n",
       "      <td>8</td>\n",
       "      <td>7</td>\n",
       "      <td>2015-08-31 23:44:02</td>\n",
       "    </tr>\n",
       "    <tr>\n",
       "      <th>71984419</th>\n",
       "      <td>84</td>\n",
       "      <td>8</td>\n",
       "      <td>7</td>\n",
       "      <td>2015-08-31 23:45:03</td>\n",
       "    </tr>\n",
       "    <tr>\n",
       "      <th>71984420</th>\n",
       "      <td>84</td>\n",
       "      <td>8</td>\n",
       "      <td>7</td>\n",
       "      <td>2015-08-31 23:46:02</td>\n",
       "    </tr>\n",
       "    <tr>\n",
       "      <th>71984421</th>\n",
       "      <td>84</td>\n",
       "      <td>8</td>\n",
       "      <td>7</td>\n",
       "      <td>2015-08-31 23:47:03</td>\n",
       "    </tr>\n",
       "    <tr>\n",
       "      <th>71984422</th>\n",
       "      <td>84</td>\n",
       "      <td>8</td>\n",
       "      <td>7</td>\n",
       "      <td>2015-08-31 23:48:03</td>\n",
       "    </tr>\n",
       "    <tr>\n",
       "      <th>71984423</th>\n",
       "      <td>84</td>\n",
       "      <td>8</td>\n",
       "      <td>7</td>\n",
       "      <td>2015-08-31 23:49:02</td>\n",
       "    </tr>\n",
       "    <tr>\n",
       "      <th>71984424</th>\n",
       "      <td>84</td>\n",
       "      <td>8</td>\n",
       "      <td>7</td>\n",
       "      <td>2015-08-31 23:50:02</td>\n",
       "    </tr>\n",
       "    <tr>\n",
       "      <th>71984425</th>\n",
       "      <td>84</td>\n",
       "      <td>8</td>\n",
       "      <td>7</td>\n",
       "      <td>2015-08-31 23:51:02</td>\n",
       "    </tr>\n",
       "    <tr>\n",
       "      <th>71984426</th>\n",
       "      <td>84</td>\n",
       "      <td>8</td>\n",
       "      <td>7</td>\n",
       "      <td>2015-08-31 23:52:02</td>\n",
       "    </tr>\n",
       "    <tr>\n",
       "      <th>71984427</th>\n",
       "      <td>84</td>\n",
       "      <td>8</td>\n",
       "      <td>7</td>\n",
       "      <td>2015-08-31 23:53:03</td>\n",
       "    </tr>\n",
       "    <tr>\n",
       "      <th>71984428</th>\n",
       "      <td>84</td>\n",
       "      <td>8</td>\n",
       "      <td>7</td>\n",
       "      <td>2015-08-31 23:54:02</td>\n",
       "    </tr>\n",
       "    <tr>\n",
       "      <th>71984429</th>\n",
       "      <td>84</td>\n",
       "      <td>8</td>\n",
       "      <td>7</td>\n",
       "      <td>2015-08-31 23:55:02</td>\n",
       "    </tr>\n",
       "    <tr>\n",
       "      <th>71984430</th>\n",
       "      <td>84</td>\n",
       "      <td>8</td>\n",
       "      <td>7</td>\n",
       "      <td>2015-08-31 23:56:01</td>\n",
       "    </tr>\n",
       "    <tr>\n",
       "      <th>71984431</th>\n",
       "      <td>84</td>\n",
       "      <td>8</td>\n",
       "      <td>7</td>\n",
       "      <td>2015-08-31 23:57:02</td>\n",
       "    </tr>\n",
       "    <tr>\n",
       "      <th>71984432</th>\n",
       "      <td>84</td>\n",
       "      <td>8</td>\n",
       "      <td>7</td>\n",
       "      <td>2015-08-31 23:58:02</td>\n",
       "    </tr>\n",
       "    <tr>\n",
       "      <th>71984433</th>\n",
       "      <td>84</td>\n",
       "      <td>8</td>\n",
       "      <td>7</td>\n",
       "      <td>2015-08-31 23:59:02</td>\n",
       "    </tr>\n",
       "  </tbody>\n",
       "</table>\n",
       "<p>71984434 rows × 4 columns</p>\n",
       "</div>"
      ],
      "text/plain": [
       "          station_id  bikes_available  docks_available                 time\n",
       "0                  2                2               25  2013/08/29 12:06:01\n",
       "1                  2                2               25  2013/08/29 12:07:01\n",
       "2                  2                2               25  2013/08/29 12:08:01\n",
       "3                  2                2               25  2013/08/29 12:09:01\n",
       "4                  2                2               25  2013/08/29 12:10:01\n",
       "5                  2                2               25  2013/08/29 12:11:01\n",
       "6                  2                2               25  2013/08/29 12:12:01\n",
       "7                  2                2               25  2013/08/29 12:13:01\n",
       "8                  2                2               25  2013/08/29 12:15:01\n",
       "9                  2                2               25  2013/08/29 12:16:02\n",
       "10                 2                2               25  2013/08/29 12:18:01\n",
       "11                 2                2               25  2013/08/29 12:19:01\n",
       "12                 2                2               25  2013/08/29 12:20:01\n",
       "13                 2                2               25  2013/08/29 12:21:01\n",
       "14                 2                2               25  2013/08/29 12:22:01\n",
       "15                 2                2               25  2013/08/29 12:23:01\n",
       "16                 2                2               25  2013/08/29 12:25:01\n",
       "17                 2                2               25  2013/08/29 12:26:01\n",
       "18                 2                2               25  2013/08/29 12:27:04\n",
       "19                 2                2               25  2013/08/29 12:29:01\n",
       "20                 2                2               25  2013/08/29 12:30:01\n",
       "21                 2                2               25  2013/08/29 12:31:01\n",
       "22                 2                2               25  2013/08/29 12:32:01\n",
       "23                 2                2               25  2013/08/29 12:33:01\n",
       "24                 2                2               25  2013/08/29 12:34:01\n",
       "25                 2                2               25  2013/08/29 12:36:01\n",
       "26                 2                2               25  2013/08/29 12:37:01\n",
       "27                 2                2               25  2013/08/29 12:38:01\n",
       "28                 2                2               25  2013/08/29 12:39:01\n",
       "29                 2                2               25  2013/08/29 12:40:02\n",
       "...              ...              ...              ...                  ...\n",
       "71984404          84                8                7  2015-08-31 23:30:02\n",
       "71984405          84                8                7  2015-08-31 23:31:02\n",
       "71984406          84                8                7  2015-08-31 23:32:02\n",
       "71984407          84                8                7  2015-08-31 23:33:02\n",
       "71984408          84                8                7  2015-08-31 23:34:02\n",
       "71984409          84                8                7  2015-08-31 23:35:02\n",
       "71984410          84                8                7  2015-08-31 23:36:01\n",
       "71984411          84                8                7  2015-08-31 23:37:02\n",
       "71984412          84                8                7  2015-08-31 23:38:02\n",
       "71984413          84                8                7  2015-08-31 23:39:02\n",
       "71984414          84                8                7  2015-08-31 23:40:02\n",
       "71984415          84                8                7  2015-08-31 23:41:02\n",
       "71984416          84                8                7  2015-08-31 23:42:02\n",
       "71984417          84                8                7  2015-08-31 23:43:02\n",
       "71984418          84                8                7  2015-08-31 23:44:02\n",
       "71984419          84                8                7  2015-08-31 23:45:03\n",
       "71984420          84                8                7  2015-08-31 23:46:02\n",
       "71984421          84                8                7  2015-08-31 23:47:03\n",
       "71984422          84                8                7  2015-08-31 23:48:03\n",
       "71984423          84                8                7  2015-08-31 23:49:02\n",
       "71984424          84                8                7  2015-08-31 23:50:02\n",
       "71984425          84                8                7  2015-08-31 23:51:02\n",
       "71984426          84                8                7  2015-08-31 23:52:02\n",
       "71984427          84                8                7  2015-08-31 23:53:03\n",
       "71984428          84                8                7  2015-08-31 23:54:02\n",
       "71984429          84                8                7  2015-08-31 23:55:02\n",
       "71984430          84                8                7  2015-08-31 23:56:01\n",
       "71984431          84                8                7  2015-08-31 23:57:02\n",
       "71984432          84                8                7  2015-08-31 23:58:02\n",
       "71984433          84                8                7  2015-08-31 23:59:02\n",
       "\n",
       "[71984434 rows x 4 columns]"
      ]
     },
     "execution_count": 6,
     "metadata": {},
     "output_type": "execute_result"
    }
   ],
   "source": [
    "df_list[1]"
   ]
  },
  {
   "cell_type": "code",
   "execution_count": 5,
   "metadata": {
    "collapsed": false
   },
   "outputs": [
    {
     "data": {
      "text/plain": [
       "(71984434, 4)"
      ]
     },
     "execution_count": 5,
     "metadata": {},
     "output_type": "execute_result"
    }
   ],
   "source": [
    "df_status.shape\n",
    "#len(df_status.columns)"
   ]
  },
  {
   "cell_type": "code",
   "execution_count": 10,
   "metadata": {
    "collapsed": false
   },
   "outputs": [
    {
     "data": {
      "text/html": [
       "<div>\n",
       "<table border=\"1\" class=\"dataframe\">\n",
       "  <thead>\n",
       "    <tr style=\"text-align: right;\">\n",
       "      <th></th>\n",
       "      <th>station_id</th>\n",
       "      <th>bikes_available</th>\n",
       "      <th>docks_available</th>\n",
       "      <th>time</th>\n",
       "    </tr>\n",
       "  </thead>\n",
       "  <tbody>\n",
       "    <tr>\n",
       "      <th>0</th>\n",
       "      <td>2</td>\n",
       "      <td>2</td>\n",
       "      <td>25</td>\n",
       "      <td>2013/08/29 12:06:01</td>\n",
       "    </tr>\n",
       "    <tr>\n",
       "      <th>1</th>\n",
       "      <td>2</td>\n",
       "      <td>2</td>\n",
       "      <td>25</td>\n",
       "      <td>2013/08/29 12:07:01</td>\n",
       "    </tr>\n",
       "    <tr>\n",
       "      <th>2</th>\n",
       "      <td>2</td>\n",
       "      <td>2</td>\n",
       "      <td>25</td>\n",
       "      <td>2013/08/29 12:08:01</td>\n",
       "    </tr>\n",
       "    <tr>\n",
       "      <th>3</th>\n",
       "      <td>2</td>\n",
       "      <td>2</td>\n",
       "      <td>25</td>\n",
       "      <td>2013/08/29 12:09:01</td>\n",
       "    </tr>\n",
       "    <tr>\n",
       "      <th>4</th>\n",
       "      <td>2</td>\n",
       "      <td>2</td>\n",
       "      <td>25</td>\n",
       "      <td>2013/08/29 12:10:01</td>\n",
       "    </tr>\n",
       "  </tbody>\n",
       "</table>\n",
       "</div>"
      ],
      "text/plain": [
       "   station_id  bikes_available  docks_available                 time\n",
       "0           2                2               25  2013/08/29 12:06:01\n",
       "1           2                2               25  2013/08/29 12:07:01\n",
       "2           2                2               25  2013/08/29 12:08:01\n",
       "3           2                2               25  2013/08/29 12:09:01\n",
       "4           2                2               25  2013/08/29 12:10:01"
      ]
     },
     "execution_count": 10,
     "metadata": {},
     "output_type": "execute_result"
    }
   ],
   "source": [
    "df_status.head()"
   ]
  },
  {
   "cell_type": "code",
   "execution_count": 6,
   "metadata": {
    "collapsed": false
   },
   "outputs": [
    {
     "data": {
      "text/plain": [
       "(669959, 11)"
      ]
     },
     "execution_count": 6,
     "metadata": {},
     "output_type": "execute_result"
    }
   ],
   "source": [
    "df_trip.shape"
   ]
  },
  {
   "cell_type": "code",
   "execution_count": 11,
   "metadata": {
    "collapsed": false
   },
   "outputs": [
    {
     "data": {
      "text/html": [
       "<div>\n",
       "<table border=\"1\" class=\"dataframe\">\n",
       "  <thead>\n",
       "    <tr style=\"text-align: right;\">\n",
       "      <th></th>\n",
       "      <th>id</th>\n",
       "      <th>duration</th>\n",
       "      <th>start_date</th>\n",
       "      <th>start_station_name</th>\n",
       "      <th>start_station_id</th>\n",
       "      <th>end_date</th>\n",
       "      <th>end_station_name</th>\n",
       "      <th>end_station_id</th>\n",
       "      <th>bike_id</th>\n",
       "      <th>subscription_type</th>\n",
       "      <th>zip_code</th>\n",
       "    </tr>\n",
       "  </thead>\n",
       "  <tbody>\n",
       "    <tr>\n",
       "      <th>0</th>\n",
       "      <td>4069</td>\n",
       "      <td>174</td>\n",
       "      <td>8/29/2013 9:08</td>\n",
       "      <td>2nd at South Park</td>\n",
       "      <td>64</td>\n",
       "      <td>8/29/2013 9:11</td>\n",
       "      <td>2nd at South Park</td>\n",
       "      <td>64</td>\n",
       "      <td>288</td>\n",
       "      <td>Subscriber</td>\n",
       "      <td>94114</td>\n",
       "    </tr>\n",
       "    <tr>\n",
       "      <th>1</th>\n",
       "      <td>4073</td>\n",
       "      <td>1067</td>\n",
       "      <td>8/29/2013 9:24</td>\n",
       "      <td>South Van Ness at Market</td>\n",
       "      <td>66</td>\n",
       "      <td>8/29/2013 9:42</td>\n",
       "      <td>San Francisco Caltrain 2 (330 Townsend)</td>\n",
       "      <td>69</td>\n",
       "      <td>321</td>\n",
       "      <td>Subscriber</td>\n",
       "      <td>94703</td>\n",
       "    </tr>\n",
       "    <tr>\n",
       "      <th>2</th>\n",
       "      <td>4074</td>\n",
       "      <td>1131</td>\n",
       "      <td>8/29/2013 9:24</td>\n",
       "      <td>South Van Ness at Market</td>\n",
       "      <td>66</td>\n",
       "      <td>8/29/2013 9:43</td>\n",
       "      <td>San Francisco Caltrain 2 (330 Townsend)</td>\n",
       "      <td>69</td>\n",
       "      <td>317</td>\n",
       "      <td>Subscriber</td>\n",
       "      <td>94115</td>\n",
       "    </tr>\n",
       "    <tr>\n",
       "      <th>3</th>\n",
       "      <td>4075</td>\n",
       "      <td>1117</td>\n",
       "      <td>8/29/2013 9:24</td>\n",
       "      <td>South Van Ness at Market</td>\n",
       "      <td>66</td>\n",
       "      <td>8/29/2013 9:43</td>\n",
       "      <td>San Francisco Caltrain 2 (330 Townsend)</td>\n",
       "      <td>69</td>\n",
       "      <td>316</td>\n",
       "      <td>Subscriber</td>\n",
       "      <td>94122</td>\n",
       "    </tr>\n",
       "    <tr>\n",
       "      <th>4</th>\n",
       "      <td>4076</td>\n",
       "      <td>1118</td>\n",
       "      <td>8/29/2013 9:25</td>\n",
       "      <td>South Van Ness at Market</td>\n",
       "      <td>66</td>\n",
       "      <td>8/29/2013 9:43</td>\n",
       "      <td>San Francisco Caltrain 2 (330 Townsend)</td>\n",
       "      <td>69</td>\n",
       "      <td>322</td>\n",
       "      <td>Subscriber</td>\n",
       "      <td>94597</td>\n",
       "    </tr>\n",
       "  </tbody>\n",
       "</table>\n",
       "</div>"
      ],
      "text/plain": [
       "     id  duration      start_date        start_station_name  start_station_id  \\\n",
       "0  4069       174  8/29/2013 9:08         2nd at South Park                64   \n",
       "1  4073      1067  8/29/2013 9:24  South Van Ness at Market                66   \n",
       "2  4074      1131  8/29/2013 9:24  South Van Ness at Market                66   \n",
       "3  4075      1117  8/29/2013 9:24  South Van Ness at Market                66   \n",
       "4  4076      1118  8/29/2013 9:25  South Van Ness at Market                66   \n",
       "\n",
       "         end_date                         end_station_name  end_station_id  \\\n",
       "0  8/29/2013 9:11                        2nd at South Park              64   \n",
       "1  8/29/2013 9:42  San Francisco Caltrain 2 (330 Townsend)              69   \n",
       "2  8/29/2013 9:43  San Francisco Caltrain 2 (330 Townsend)              69   \n",
       "3  8/29/2013 9:43  San Francisco Caltrain 2 (330 Townsend)              69   \n",
       "4  8/29/2013 9:43  San Francisco Caltrain 2 (330 Townsend)              69   \n",
       "\n",
       "   bike_id subscription_type zip_code  \n",
       "0      288        Subscriber    94114  \n",
       "1      321        Subscriber    94703  \n",
       "2      317        Subscriber    94115  \n",
       "3      316        Subscriber    94122  \n",
       "4      322        Subscriber    94597  "
      ]
     },
     "execution_count": 11,
     "metadata": {},
     "output_type": "execute_result"
    }
   ],
   "source": [
    "df_trip.head()\n",
    "df_trip"
   ]
  },
  {
   "cell_type": "code",
   "execution_count": 45,
   "metadata": {
    "collapsed": false
   },
   "outputs": [
    {
     "data": {
      "text/plain": [
       "Index([u'date', u'max_temperature_f', u'mean_temperature_f',\n",
       "       u'min_temperature_f', u'max_dew_point_f', u'mean_dew_point_f',\n",
       "       u'min_dew_point_f', u'max_humidity', u'mean_humidity', u'min_humidity',\n",
       "       u'max_sea_level_pressure_inches', u'mean_sea_level_pressure_inches',\n",
       "       u'min_sea_level_pressure_inches', u'max_visibility_miles',\n",
       "       u'mean_visibility_miles', u'min_visibility_miles',\n",
       "       u'max_wind_Speed_mph', u'mean_wind_speed_mph', u'max_gust_speed_mph',\n",
       "       u'precipitation_inches', u'cloud_cover', u'events', u'wind_dir_degrees',\n",
       "       u'zip_code'],\n",
       "      dtype='object')"
      ]
     },
     "execution_count": 45,
     "metadata": {},
     "output_type": "execute_result"
    }
   ],
   "source": [
    "df_weather.shape\n",
    "df_weather.columns"
   ]
  },
  {
   "cell_type": "code",
   "execution_count": 12,
   "metadata": {
    "collapsed": false
   },
   "outputs": [
    {
     "data": {
      "text/html": [
       "<div>\n",
       "<table border=\"1\" class=\"dataframe\">\n",
       "  <thead>\n",
       "    <tr style=\"text-align: right;\">\n",
       "      <th></th>\n",
       "      <th>date</th>\n",
       "      <th>max_temperature_f</th>\n",
       "      <th>mean_temperature_f</th>\n",
       "      <th>min_temperature_f</th>\n",
       "      <th>max_dew_point_f</th>\n",
       "      <th>mean_dew_point_f</th>\n",
       "      <th>min_dew_point_f</th>\n",
       "      <th>max_humidity</th>\n",
       "      <th>mean_humidity</th>\n",
       "      <th>min_humidity</th>\n",
       "      <th>...</th>\n",
       "      <th>mean_visibility_miles</th>\n",
       "      <th>min_visibility_miles</th>\n",
       "      <th>max_wind_Speed_mph</th>\n",
       "      <th>mean_wind_speed_mph</th>\n",
       "      <th>max_gust_speed_mph</th>\n",
       "      <th>precipitation_inches</th>\n",
       "      <th>cloud_cover</th>\n",
       "      <th>events</th>\n",
       "      <th>wind_dir_degrees</th>\n",
       "      <th>zip_code</th>\n",
       "    </tr>\n",
       "  </thead>\n",
       "  <tbody>\n",
       "    <tr>\n",
       "      <th>0</th>\n",
       "      <td>8/29/2013</td>\n",
       "      <td>74</td>\n",
       "      <td>68</td>\n",
       "      <td>61</td>\n",
       "      <td>61</td>\n",
       "      <td>58</td>\n",
       "      <td>56</td>\n",
       "      <td>93</td>\n",
       "      <td>75</td>\n",
       "      <td>57</td>\n",
       "      <td>...</td>\n",
       "      <td>10</td>\n",
       "      <td>10</td>\n",
       "      <td>23</td>\n",
       "      <td>11</td>\n",
       "      <td>28</td>\n",
       "      <td>0</td>\n",
       "      <td>4</td>\n",
       "      <td></td>\n",
       "      <td>286</td>\n",
       "      <td>94107</td>\n",
       "    </tr>\n",
       "    <tr>\n",
       "      <th>1</th>\n",
       "      <td>8/30/2013</td>\n",
       "      <td>78</td>\n",
       "      <td>69</td>\n",
       "      <td>60</td>\n",
       "      <td>61</td>\n",
       "      <td>58</td>\n",
       "      <td>56</td>\n",
       "      <td>90</td>\n",
       "      <td>70</td>\n",
       "      <td>50</td>\n",
       "      <td>...</td>\n",
       "      <td>10</td>\n",
       "      <td>7</td>\n",
       "      <td>29</td>\n",
       "      <td>13</td>\n",
       "      <td>35</td>\n",
       "      <td>0</td>\n",
       "      <td>2</td>\n",
       "      <td></td>\n",
       "      <td>291</td>\n",
       "      <td>94107</td>\n",
       "    </tr>\n",
       "    <tr>\n",
       "      <th>2</th>\n",
       "      <td>8/31/2013</td>\n",
       "      <td>71</td>\n",
       "      <td>64</td>\n",
       "      <td>57</td>\n",
       "      <td>57</td>\n",
       "      <td>56</td>\n",
       "      <td>54</td>\n",
       "      <td>93</td>\n",
       "      <td>75</td>\n",
       "      <td>57</td>\n",
       "      <td>...</td>\n",
       "      <td>10</td>\n",
       "      <td>10</td>\n",
       "      <td>26</td>\n",
       "      <td>15</td>\n",
       "      <td>31</td>\n",
       "      <td>0</td>\n",
       "      <td>4</td>\n",
       "      <td></td>\n",
       "      <td>284</td>\n",
       "      <td>94107</td>\n",
       "    </tr>\n",
       "    <tr>\n",
       "      <th>3</th>\n",
       "      <td>9/1/2013</td>\n",
       "      <td>74</td>\n",
       "      <td>66</td>\n",
       "      <td>58</td>\n",
       "      <td>60</td>\n",
       "      <td>56</td>\n",
       "      <td>53</td>\n",
       "      <td>87</td>\n",
       "      <td>68</td>\n",
       "      <td>49</td>\n",
       "      <td>...</td>\n",
       "      <td>10</td>\n",
       "      <td>10</td>\n",
       "      <td>25</td>\n",
       "      <td>13</td>\n",
       "      <td>29</td>\n",
       "      <td>0</td>\n",
       "      <td>4</td>\n",
       "      <td></td>\n",
       "      <td>284</td>\n",
       "      <td>94107</td>\n",
       "    </tr>\n",
       "    <tr>\n",
       "      <th>4</th>\n",
       "      <td>9/2/2013</td>\n",
       "      <td>75</td>\n",
       "      <td>69</td>\n",
       "      <td>62</td>\n",
       "      <td>61</td>\n",
       "      <td>60</td>\n",
       "      <td>58</td>\n",
       "      <td>93</td>\n",
       "      <td>77</td>\n",
       "      <td>61</td>\n",
       "      <td>...</td>\n",
       "      <td>10</td>\n",
       "      <td>6</td>\n",
       "      <td>23</td>\n",
       "      <td>12</td>\n",
       "      <td>30</td>\n",
       "      <td>0</td>\n",
       "      <td>6</td>\n",
       "      <td></td>\n",
       "      <td>277</td>\n",
       "      <td>94107</td>\n",
       "    </tr>\n",
       "  </tbody>\n",
       "</table>\n",
       "<p>5 rows × 24 columns</p>\n",
       "</div>"
      ],
      "text/plain": [
       "        date max_temperature_f mean_temperature_f min_temperature_f  \\\n",
       "0  8/29/2013                74                 68                61   \n",
       "1  8/30/2013                78                 69                60   \n",
       "2  8/31/2013                71                 64                57   \n",
       "3   9/1/2013                74                 66                58   \n",
       "4   9/2/2013                75                 69                62   \n",
       "\n",
       "  max_dew_point_f mean_dew_point_f min_dew_point_f max_humidity mean_humidity  \\\n",
       "0              61               58              56           93            75   \n",
       "1              61               58              56           90            70   \n",
       "2              57               56              54           93            75   \n",
       "3              60               56              53           87            68   \n",
       "4              61               60              58           93            77   \n",
       "\n",
       "  min_humidity   ...    mean_visibility_miles min_visibility_miles  \\\n",
       "0           57   ...                       10                   10   \n",
       "1           50   ...                       10                    7   \n",
       "2           57   ...                       10                   10   \n",
       "3           49   ...                       10                   10   \n",
       "4           61   ...                       10                    6   \n",
       "\n",
       "  max_wind_Speed_mph mean_wind_speed_mph max_gust_speed_mph  \\\n",
       "0                 23                  11                 28   \n",
       "1                 29                  13                 35   \n",
       "2                 26                  15                 31   \n",
       "3                 25                  13                 29   \n",
       "4                 23                  12                 30   \n",
       "\n",
       "  precipitation_inches cloud_cover events wind_dir_degrees zip_code  \n",
       "0                    0           4                     286    94107  \n",
       "1                    0           2                     291    94107  \n",
       "2                    0           4                     284    94107  \n",
       "3                    0           4                     284    94107  \n",
       "4                    0           6                     277    94107  \n",
       "\n",
       "[5 rows x 24 columns]"
      ]
     },
     "execution_count": 12,
     "metadata": {},
     "output_type": "execute_result"
    }
   ],
   "source": [
    "df_weather.head()"
   ]
  },
  {
   "cell_type": "code",
   "execution_count": 8,
   "metadata": {
    "collapsed": false
   },
   "outputs": [
    {
     "data": {
      "text/plain": [
       "(70, 7)"
      ]
     },
     "execution_count": 8,
     "metadata": {},
     "output_type": "execute_result"
    }
   ],
   "source": [
    "df_station.shape"
   ]
  },
  {
   "cell_type": "code",
   "execution_count": 13,
   "metadata": {
    "collapsed": false
   },
   "outputs": [
    {
     "data": {
      "text/html": [
       "<div>\n",
       "<table border=\"1\" class=\"dataframe\">\n",
       "  <thead>\n",
       "    <tr style=\"text-align: right;\">\n",
       "      <th></th>\n",
       "      <th>id</th>\n",
       "      <th>name</th>\n",
       "      <th>lat</th>\n",
       "      <th>long</th>\n",
       "      <th>dock_count</th>\n",
       "      <th>city</th>\n",
       "      <th>installation_date</th>\n",
       "    </tr>\n",
       "  </thead>\n",
       "  <tbody>\n",
       "    <tr>\n",
       "      <th>0</th>\n",
       "      <td>2</td>\n",
       "      <td>San Jose Diridon Caltrain Station</td>\n",
       "      <td>37.329732</td>\n",
       "      <td>-121.901782</td>\n",
       "      <td>27</td>\n",
       "      <td>San Jose</td>\n",
       "      <td>8/6/2013</td>\n",
       "    </tr>\n",
       "    <tr>\n",
       "      <th>1</th>\n",
       "      <td>3</td>\n",
       "      <td>San Jose Civic Center</td>\n",
       "      <td>37.330698</td>\n",
       "      <td>-121.888979</td>\n",
       "      <td>15</td>\n",
       "      <td>San Jose</td>\n",
       "      <td>8/5/2013</td>\n",
       "    </tr>\n",
       "    <tr>\n",
       "      <th>2</th>\n",
       "      <td>4</td>\n",
       "      <td>Santa Clara at Almaden</td>\n",
       "      <td>37.333988</td>\n",
       "      <td>-121.894902</td>\n",
       "      <td>11</td>\n",
       "      <td>San Jose</td>\n",
       "      <td>8/6/2013</td>\n",
       "    </tr>\n",
       "    <tr>\n",
       "      <th>3</th>\n",
       "      <td>5</td>\n",
       "      <td>Adobe on Almaden</td>\n",
       "      <td>37.331415</td>\n",
       "      <td>-121.893200</td>\n",
       "      <td>19</td>\n",
       "      <td>San Jose</td>\n",
       "      <td>8/5/2013</td>\n",
       "    </tr>\n",
       "    <tr>\n",
       "      <th>4</th>\n",
       "      <td>6</td>\n",
       "      <td>San Pedro Square</td>\n",
       "      <td>37.336721</td>\n",
       "      <td>-121.894074</td>\n",
       "      <td>15</td>\n",
       "      <td>San Jose</td>\n",
       "      <td>8/7/2013</td>\n",
       "    </tr>\n",
       "  </tbody>\n",
       "</table>\n",
       "</div>"
      ],
      "text/plain": [
       "   id                               name        lat        long  dock_count  \\\n",
       "0   2  San Jose Diridon Caltrain Station  37.329732 -121.901782          27   \n",
       "1   3              San Jose Civic Center  37.330698 -121.888979          15   \n",
       "2   4             Santa Clara at Almaden  37.333988 -121.894902          11   \n",
       "3   5                   Adobe on Almaden  37.331415 -121.893200          19   \n",
       "4   6                   San Pedro Square  37.336721 -121.894074          15   \n",
       "\n",
       "       city installation_date  \n",
       "0  San Jose          8/6/2013  \n",
       "1  San Jose          8/5/2013  \n",
       "2  San Jose          8/6/2013  \n",
       "3  San Jose          8/5/2013  \n",
       "4  San Jose          8/7/2013  "
      ]
     },
     "execution_count": 13,
     "metadata": {},
     "output_type": "execute_result"
    }
   ],
   "source": [
    "df_station.head()"
   ]
  },
  {
   "cell_type": "code",
   "execution_count": 71,
   "metadata": {
    "collapsed": false
   },
   "outputs": [
    {
     "data": {
      "text/plain": [
       "'id'"
      ]
     },
     "execution_count": 71,
     "metadata": {},
     "output_type": "execute_result"
    }
   ],
   "source": [
    "df_station['id'].nunique()\n",
    "df_station.columns[0]"
   ]
  },
  {
   "cell_type": "code",
   "execution_count": 75,
   "metadata": {
    "collapsed": false
   },
   "outputs": [
    {
     "name": "stdout",
     "output_type": "stream",
     "text": [
      "4\n",
      "70\n",
      "28\n",
      "28\n",
      "1047143\n"
     ]
    }
   ],
   "source": [
    "def df_descriptions (df):\n",
    "    unique_counts = []\n",
    "    print len(df.columns)\n",
    "    for i in range(0, len(df.columns)): \n",
    "        # Get unique values of each column \n",
    "        print df[df.columns[i]].nunique()\n",
    "        unique_counts.append(df[df.columns[i]].nunique())\n",
    "        \n",
    "        # Get nulls of each column \n",
    "\n",
    "df_descriptions(df_status)        \n"
   ]
  },
  {
   "cell_type": "code",
   "execution_count": 21,
   "metadata": {
    "collapsed": false
   },
   "outputs": [],
   "source": [
    "def col_descriptions (df, cols):\n",
    "    \"\"\"\n",
    "    Function that takes a pandas dataframe and some of its selected columns and prints out some stats \n",
    "    \n",
    "    Args: \n",
    "        pd: pandas dataframe \n",
    "        columns: a list of which columns to look at (can only be numerical columns, not categorical)\n",
    "    Returns:\n",
    "    \n",
    "    \"\"\"\n",
    "    stats = [[]]\n",
    "    i = 0 \n",
    "    for col in cols: \n",
    "        print col \n",
    "        \n",
    "        total_rows = len(df)\n",
    "        #add in number of unique values \n",
    "        stats.append(df[col].nunique())\n",
    "        \n",
    "        #add in max value of column \n",
    "        stats.append(max(df[col]))\n",
    "        \n",
    "        #add in minimum value of column \n",
    "        stats.append(min(df[col]))\n",
    "        \n",
    "        #add in % of 0s \n",
    "        zeros = Counter(list(df[col]))[0]\n",
    "        percent_zeros = zeros*100.00/total_rows\n",
    "        stats.append(percent_zeros)\n",
    "        \n",
    "        #add in % of nulls \n",
    "        #nulls can be either a predetermined value or a nicely recognized null value \n",
    "        #in numpy and pandas, the recognized null value is NaN. \n",
    "        #sometimes, it could just be a '' as well \n",
    "        #as of right now, we don't know what's predetermined yet\n",
    "        #let's take the maximum value of the two \n",
    "        \n",
    "        #regular NaNs \n",
    "        #need to first replace blank ones with NaN\n",
    "        df[col].replace('', np.nan, inplace=True)\n",
    "        nans = df[col].isnull().sum()\n",
    "        \n",
    "    \n",
    "        percent_nulls = nans*100.00/total_rows \n",
    "        stats.append(percent_nulls)\n",
    "        stats = [[stats]]\n",
    "        if i > 0: \n",
    "            stats.append(stats)\n",
    "        else:\n",
    "            stats.append()\n",
    "        \n",
    "    final = pd.DataFrame(stats,)"
   ]
  },
  {
   "cell_type": "code",
   "execution_count": 29,
   "metadata": {
    "collapsed": false
   },
   "outputs": [
    {
     "data": {
      "text/plain": [
       "0"
      ]
     },
     "execution_count": 29,
     "metadata": {},
     "output_type": "execute_result"
    }
   ],
   "source": [
    "df_status['station_id'].nunique()\n",
    "df_status['station_id'].isnull().sum()"
   ]
  },
  {
   "cell_type": "code",
   "execution_count": 22,
   "metadata": {
    "collapsed": false
   },
   "outputs": [
    {
     "name": "stdout",
     "output_type": "stream",
     "text": [
      "station_id\n",
      "[70, 84, 2, 0.0, 0.0]\n",
      "bikes_available\n",
      "[28, 27, 0, 0.7348866561901425, 0.0]\n",
      "docks_available\n",
      "[28, 27, 0, 0.4538189464683434, 0.0]\n",
      "time\n",
      "[1047143, u'2015-08-31 23:59:02', u'2013/08/29 12:06:01', 0.0, 0.0]\n"
     ]
    }
   ],
   "source": [
    "df_status_excl = []\n",
    "df_status_cols = [column for column in df_status.columns.values if column not in df_status_excl]\n",
    "col_descriptions (df_status, df_status_cols)\n"
   ]
  },
  {
   "cell_type": "code",
   "execution_count": 46,
   "metadata": {
    "collapsed": false
   },
   "outputs": [
    {
     "name": "stdout",
     "output_type": "stream",
     "text": [
      "date\n",
      "[733, u'9/9/2014', u'1/1/2014', 0.0, 0.0]\n",
      "max_temperature_f\n",
      "[56, u'', 44, 0.0, 0.10914051841746249]\n",
      "mean_temperature_f\n",
      "[47, u'', 38, 0.0, 0.10914051841746249]\n",
      "min_temperature_f\n",
      "[46, u'', 25, 0.0, 0.10914051841746249]\n",
      "max_dew_point_f\n",
      "[46, u'', 20, 0.0, 1.4733969986357436]\n",
      "mean_dew_point_f\n",
      "[52, u'', 13, 0.0, 1.4733969986357436]\n",
      "min_dew_point_f\n",
      "[57, u'', 2, 0.0, 1.4733969986357436]\n",
      "max_humidity\n",
      "[61, u'', 24, 0.0, 1.4733969986357436]\n",
      "mean_humidity\n",
      "[73, u'', 24, 0.0, 1.4733969986357436]\n",
      "min_humidity\n",
      "[78, u'', 4, 0.0, 1.4733969986357436]\n",
      "max_sea_level_pressure_inches\n",
      "[83, u'', 29.5, 0.0, 0.027285129604365622]\n",
      "mean_sea_level_pressure_inches\n",
      "[81, u'', 29.43, 0.0, 0.027285129604365622]\n",
      "min_sea_level_pressure_inches\n",
      "[90, u'', 28.98, 0.0, 0.027285129604365622]\n",
      "max_visibility_miles\n",
      "[12, u'', 5, 0.0, 0.35470668485675305]\n",
      "mean_visibility_miles\n",
      "[18, u'', 4, 0.0, 0.35470668485675305]\n",
      "min_visibility_miles\n",
      "[14, u'', 0, 2.5375170532060025, 0.35470668485675305]\n",
      "max_wind_Speed_mph\n",
      "[50, u'', 0, 0.027285129604365622, 0.027285129604365622]\n",
      "mean_wind_speed_mph\n",
      "[25, u'', 0, 1.0368349249658937, 0.027285129604365622]\n",
      "max_gust_speed_mph\n",
      "[46, u'', 6, 0.0, 24.529331514324692]\n",
      "precipitation_inches\n",
      "[86, u'T', 0, 88.15825375170532, 0.027285129604365622]\n",
      "cloud_cover\n",
      "[10, u'', 0, 22.755798090040926, 0.027285129604365622]\n",
      "events\n",
      "[6, u'rain', u'', 0.0, 85.757162346521142]\n",
      "wind_dir_degrees\n",
      "[331, u'', 0, 0.027285129604365622, 0.027285129604365622]\n"
     ]
    }
   ],
   "source": [
    "df_weather_excl = ['zip_code']\n",
    "df_weather_cols = [column for column in df_weather.columns.values if column not in df_weather_excl]\n",
    "col_descriptions (df_weather, df_weather_cols)"
   ]
  },
  {
   "cell_type": "code",
   "execution_count": 3,
   "metadata": {
    "collapsed": false
   },
   "outputs": [
    {
     "data": {
      "text/html": [
       "<div>\n",
       "<table border=\"1\" class=\"dataframe\">\n",
       "  <thead>\n",
       "    <tr style=\"text-align: right;\">\n",
       "      <th></th>\n",
       "      <th>1</th>\n",
       "      <th>2</th>\n",
       "      <th>3</th>\n",
       "    </tr>\n",
       "  </thead>\n",
       "  <tbody>\n",
       "    <tr>\n",
       "      <th>0</th>\n",
       "      <td>a</td>\n",
       "      <td>1</td>\n",
       "      <td>NaN</td>\n",
       "    </tr>\n",
       "    <tr>\n",
       "      <th>1</th>\n",
       "      <td>d</td>\n",
       "      <td></td>\n",
       "      <td>NaN</td>\n",
       "    </tr>\n",
       "  </tbody>\n",
       "</table>\n",
       "</div>"
      ],
      "text/plain": [
       "   1  2   3\n",
       "0  a  1 NaN\n",
       "1  d    NaN"
      ]
     },
     "execution_count": 3,
     "metadata": {},
     "output_type": "execute_result"
    }
   ],
   "source": [
    "import numpy as np\n",
    "a = ['a','d']\n",
    "b = ['1', '']\n",
    "c = pd.DataFrame({'1': a, '2': b, '3':[np.nan]*2})\n",
    "#df_weather.isnull().sum()\n",
    "#df_status.max()\n",
    "c"
   ]
  },
  {
   "cell_type": "code",
   "execution_count": 11,
   "metadata": {
    "collapsed": false
   },
   "outputs": [
    {
     "data": {
      "text/plain": [
       "1    0\n",
       "2    1\n",
       "3    2\n",
       "dtype: int64"
      ]
     },
     "execution_count": 11,
     "metadata": {},
     "output_type": "execute_result"
    }
   ],
   "source": [
    "c.replace('', np.nan, inplace=True)\n",
    "c.isnull().sum()\n"
   ]
  },
  {
   "cell_type": "code",
   "execution_count": 40,
   "metadata": {
    "collapsed": false
   },
   "outputs": [],
   "source": [
    "a.append(b)"
   ]
  },
  {
   "cell_type": "code",
   "execution_count": 43,
   "metadata": {
    "collapsed": false
   },
   "outputs": [],
   "source": [
    "a = [['a', 'd']]\n",
    "a.append(b)\n",
    "f = pd.DataFrame(a, columns=['a','a'])"
   ]
  },
  {
   "cell_type": "code",
   "execution_count": 44,
   "metadata": {
    "collapsed": false
   },
   "outputs": [
    {
     "data": {
      "text/html": [
       "<div>\n",
       "<table border=\"1\" class=\"dataframe\">\n",
       "  <thead>\n",
       "    <tr style=\"text-align: right;\">\n",
       "      <th></th>\n",
       "      <th>a</th>\n",
       "      <th>a</th>\n",
       "    </tr>\n",
       "  </thead>\n",
       "  <tbody>\n",
       "    <tr>\n",
       "      <th>0</th>\n",
       "      <td>a</td>\n",
       "      <td>d</td>\n",
       "    </tr>\n",
       "    <tr>\n",
       "      <th>1</th>\n",
       "      <td>1</td>\n",
       "      <td></td>\n",
       "    </tr>\n",
       "  </tbody>\n",
       "</table>\n",
       "</div>"
      ],
      "text/plain": [
       "   a  a\n",
       "0  a  d\n",
       "1  1   "
      ]
     },
     "execution_count": 44,
     "metadata": {},
     "output_type": "execute_result"
    }
   ],
   "source": [
    "f"
   ]
  },
  {
   "cell_type": "code",
   "execution_count": null,
   "metadata": {
    "collapsed": true
   },
   "outputs": [],
   "source": []
  },
  {
   "cell_type": "code",
   "execution_count": null,
   "metadata": {
    "collapsed": true
   },
   "outputs": [],
   "source": []
  },
  {
   "cell_type": "code",
   "execution_count": null,
   "metadata": {
    "collapsed": true
   },
   "outputs": [],
   "source": []
  },
  {
   "cell_type": "code",
   "execution_count": 40,
   "metadata": {
    "collapsed": false
   },
   "outputs": [
    {
     "data": {
      "text/plain": [
       "Index([u'c1', u'c2', u'c3'], dtype='object')"
      ]
     },
     "execution_count": 40,
     "metadata": {},
     "output_type": "execute_result"
    }
   ],
   "source": [
    "\n",
    "\n",
    "c.columns = ['c1', 'c2', 'c3']\n",
    "c.columns"
   ]
  },
  {
   "cell_type": "code",
   "execution_count": 41,
   "metadata": {
    "collapsed": false
   },
   "outputs": [
    {
     "data": {
      "text/html": [
       "<div>\n",
       "<table border=\"1\" class=\"dataframe\">\n",
       "  <thead>\n",
       "    <tr style=\"text-align: right;\">\n",
       "      <th></th>\n",
       "      <th>c1</th>\n",
       "      <th>c2</th>\n",
       "      <th>c3</th>\n",
       "    </tr>\n",
       "  </thead>\n",
       "  <tbody>\n",
       "    <tr>\n",
       "      <th>0</th>\n",
       "      <td>a</td>\n",
       "      <td>1</td>\n",
       "      <td>NaN</td>\n",
       "    </tr>\n",
       "    <tr>\n",
       "      <th>1</th>\n",
       "      <td>d</td>\n",
       "      <td></td>\n",
       "      <td>NaN</td>\n",
       "    </tr>\n",
       "  </tbody>\n",
       "</table>\n",
       "</div>"
      ],
      "text/plain": [
       "  c1 c2  c3\n",
       "0  a  1 NaN\n",
       "1  d    NaN"
      ]
     },
     "execution_count": 41,
     "metadata": {},
     "output_type": "execute_result"
    }
   ],
   "source": [
    "c"
   ]
  },
  {
   "cell_type": "code",
   "execution_count": 52,
   "metadata": {
    "collapsed": false
   },
   "outputs": [
    {
     "data": {
      "text/plain": [
       "1"
      ]
     },
     "execution_count": 52,
     "metadata": {},
     "output_type": "execute_result"
    }
   ],
   "source": [
    "len(c.loc[c['c2']==''])"
   ]
  }
 ],
 "metadata": {
  "kernelspec": {
   "display_name": "Python 2",
   "language": "python",
   "name": "python2"
  },
  "language_info": {
   "codemirror_mode": {
    "name": "ipython",
    "version": 2
   },
   "file_extension": ".py",
   "mimetype": "text/x-python",
   "name": "python",
   "nbconvert_exporter": "python",
   "pygments_lexer": "ipython2",
   "version": "2.7.9"
  }
 },
 "nbformat": 4,
 "nbformat_minor": 0
}
