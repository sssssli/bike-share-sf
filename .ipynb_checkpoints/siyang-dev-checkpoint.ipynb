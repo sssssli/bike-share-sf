{
 "cells": [
  {
   "cell_type": "code",
   "execution_count": 7,
   "metadata": {
    "collapsed": true
   },
   "outputs": [],
   "source": [
    "import sqlite3 \n",
    "import pandas as pd\n",
    "import os"
   ]
  },
  {
   "cell_type": "code",
   "execution_count": 11,
   "metadata": {
    "collapsed": true
   },
   "outputs": [],
   "source": [
    "def open_connection_sqlite ():\n",
    "        \"\"\"\n",
    "        Opens and sets sqlite connection\n",
    "        \"\"\"\n",
    "        cwd = os.getcwd() #backend testing\n",
    "        #cwd = cwd[:cwd.rfind('/')] # go back 1 dir\n",
    "\n",
    "        db = 'database.sqlite'.format(cwd=cwd)\n",
    "        try:\n",
    "            conn_sqlite = sqlite3.connect(db)\n",
    "            # autocommit\n",
    "            conn_sqlite.isolation_level = None\n",
    "            curs_sqlite = conn_sqlite.cursor()\n",
    "        except sqlite3.Error as err:\n",
    "            logging.exception('cannot open sqlite connection')\n",
    "            raise\n",
    "        return (conn_sqlite, curs_sqlite)\n"
   ]
  },
  {
   "cell_type": "code",
   "execution_count": 12,
   "metadata": {
    "collapsed": false
   },
   "outputs": [],
   "source": [
    "conn_sqlite, curs_sqlite = open_connection_sqlite()\n",
    "\n",
    "\n",
    "df_station = pd.read_sql_query(\"SELECT * from station\", conn_sqlite)"
   ]
  },
  {
   "cell_type": "code",
   "execution_count": null,
   "metadata": {
    "collapsed": true
   },
   "outputs": [],
   "source": []
  }
 ],
 "metadata": {
  "kernelspec": {
   "display_name": "Python 2",
   "language": "python",
   "name": "python2"
  },
  "language_info": {
   "codemirror_mode": {
    "name": "ipython",
    "version": 2
   },
   "file_extension": ".py",
   "mimetype": "text/x-python",
   "name": "python",
   "nbconvert_exporter": "python",
   "pygments_lexer": "ipython2",
   "version": "2.7.12"
  }
 },
 "nbformat": 4,
 "nbformat_minor": 0
}
